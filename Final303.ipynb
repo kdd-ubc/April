{
 "cells": [
  {
   "cell_type": "markdown",
   "metadata": {
    "deletable": false,
    "editable": false,
    "nbgrader": {
     "cell_type": "markdown",
     "checksum": "d57beb42a9d358847e5887af2918dd94",
     "grade": false,
     "grade_id": "cell-0055c2d9d0556e58",
     "locked": true,
     "schema_version": 3,
     "solution": false,
     "task": false
    }
   },
   "source": [
    "# MATH 303 Final Exam\n",
    "\n",
    "## Student ID\n",
    "\n",
    "Enter your student ID number in the cell below using the command:\n",
    "\n",
    "```\n",
    "id_student = XXXXXXXX # Replace XXXXXXXX with your student ID number\n",
    "```"
   ]
  },
  {
   "cell_type": "code",
   "execution_count": null,
   "metadata": {
    "deletable": false,
    "nbgrader": {
     "cell_type": "code",
     "checksum": "484395f3e175cfb33eb581ed2211b984",
     "grade": false,
     "grade_id": "cell-01e55b54e86dc9db",
     "locked": false,
     "schema_version": 3,
     "solution": true,
     "task": false
    }
   },
   "outputs": [],
   "source": [
    "# Enter your student number\n",
    "id_student ="
   ]
  },
  {
   "cell_type": "markdown",
   "metadata": {
    "deletable": false,
    "editable": false,
    "nbgrader": {
     "cell_type": "markdown",
     "checksum": "c8a48a3dfc2a3160de27807a837817b4",
     "grade": false,
     "grade_id": "cell-9c73f0881722f8d5",
     "locked": true,
     "schema_version": 3,
     "solution": false,
     "task": false
    }
   },
   "source": [
    "Run the test in the cell below to verify your student ID number:"
   ]
  },
  {
   "cell_type": "code",
   "execution_count": null,
   "metadata": {
    "deletable": false,
    "editable": false,
    "nbgrader": {
     "cell_type": "code",
     "checksum": "72554926cec99049d6ff76487b69a10a",
     "grade": true,
     "grade_id": "cell-0b41f42dadd3932f",
     "locked": true,
     "points": 0,
     "schema_version": 3,
     "solution": false,
     "task": false
    }
   },
   "outputs": [],
   "source": [
    "assert isinstance(id_student,int) , \"Your student ID should be an integer.\"\n",
    "print(\"Your student ID is\",id_student)"
   ]
  },
  {
   "cell_type": "markdown",
   "metadata": {
    "deletable": false,
    "editable": false,
    "nbgrader": {
     "cell_type": "markdown",
     "checksum": "76af3aaa4e0f08405e4fd275fa4729e0",
     "grade": false,
     "grade_id": "cell-10212487f5ba94f0",
     "locked": true,
     "schema_version": 3,
     "solution": false,
     "task": false
    }
   },
   "source": [
    "## Problem 1\n",
    "\n",
    "**The problem has two independent parts**:\n",
    "\n",
    "* Part 1 (5 marks) includes questions a to e\n",
    "* Part 2 (4 marks) includes questions f and g"
   ]
  },
  {
   "cell_type": "markdown",
   "metadata": {
    "deletable": false,
    "editable": false,
    "nbgrader": {
     "cell_type": "markdown",
     "checksum": "87f128f97b0b1fed7477a823bfefa78a",
     "grade": false,
     "grade_id": "cell-947000b63a441176",
     "locked": true,
     "schema_version": 3,
     "solution": false,
     "task": false
    }
   },
   "source": [
    "## Part 1\n",
    "\n",
    "We analyze a discrete time Markov chain with state space $\\{1, 2, 3, 4\\}$. Let $P$ be the transition matrix for this Markov chain.\n",
    "\n",
    "Run the cell below to display $P$. The 4 states $1,2,3,4$ correspond to the row and column indices of $P$. To solve the following questions, **we recommend to draw the transition diagram associated with** $P$."
   ]
  },
  {
   "cell_type": "code",
   "execution_count": null,
   "metadata": {
    "deletable": false,
    "editable": false,
    "nbgrader": {
     "cell_type": "code",
     "checksum": "dbcf34b8c26fd3b7f14c39cc5ca43805",
     "grade": false,
     "grade_id": "cell-fc185c43185cdd0e",
     "locked": true,
     "schema_version": 3,
     "solution": false,
     "task": false
    }
   },
   "outputs": [],
   "source": [
    "from sympy import latex, Matrix\n",
    "from IPython.display import display, Math\n",
    "y = str(id_student); a = id_student + int(y[3]); bprob11 = a % 4;\n",
    "Prob11 = [[[0.0,1.0,0.0,0.0],[0.4,0.0,0.6,0.0],[0.0,0.0,0.0,1.0],[0.0,0.0,0.5,0.5]],\n",
    "          [[0.0,1.0,0.0,0.0],[0.0,0.0,1.0,0.0],[0.6,0.0,0.0,0.4],[0.0,0.0,0.0,1.0]],\n",
    "          [[0.0,0.0,0.0,1.0],[0.0,0.0,0.6,0.4],[0.0,1.0,0.0,0.0],[0.0,0.0,0.0,1.0]],\n",
    "          [[0.0,1.0,0.0,0.0],[0.5,0.0,0.5,0.0],[0.0,0.6,0.0,0.4],[0.0,0.0,0.0,1.0]]]\n",
    "display(Math('P = ' + latex(Matrix(Prob11[bprob11]))))"
   ]
  },
  {
   "cell_type": "markdown",
   "metadata": {
    "deletable": false,
    "editable": false,
    "nbgrader": {
     "cell_type": "markdown",
     "checksum": "95d887a118b2cd84eb0884db9ef0626a",
     "grade": false,
     "grade_id": "cell-12bb3d58915c9c74",
     "locked": true,
     "schema_version": 3,
     "solution": false,
     "task": false
    }
   },
   "source": [
    "### Problem 1a (1 mark)\n",
    "\n",
    "Find the number of communicating classes `c` in this Markov chain. Enter your answer in the cell below.\n",
    "\n",
    "**Grading:**\n",
    "\n",
    "* +1 mark if answer `c` is correct\n",
    "* -1 mark if answer `c` is incorrect\n",
    "\n",
    "Alternatively, enter `c = 0` for 0 marks."
   ]
  },
  {
   "cell_type": "code",
   "execution_count": null,
   "metadata": {
    "deletable": false,
    "nbgrader": {
     "cell_type": "code",
     "checksum": "b8459672df6f80b4afcf9e49b45c28f9",
     "grade": false,
     "grade_id": "cell-9c3642121a276e17",
     "locked": false,
     "schema_version": 3,
     "solution": true,
     "task": false
    }
   },
   "outputs": [],
   "source": [
    "# Enter a value for c (or leave c = 0 for 0 marks)\n",
    "c = 0"
   ]
  },
  {
   "cell_type": "code",
   "execution_count": null,
   "metadata": {
    "deletable": false,
    "editable": false,
    "nbgrader": {
     "cell_type": "code",
     "checksum": "db4a0d3504e1fd6f48146d54865a0ce7",
     "grade": true,
     "grade_id": "cell-cf08eff50f982a06",
     "locked": true,
     "points": 1,
     "schema_version": 3,
     "solution": false,
     "task": false
    }
   },
   "outputs": [],
   "source": [
    "\"Verify the value c. This cell contains hidden tests.\"\n",
    "assert isinstance(c,int) , \"c should be an integer.\"\n",
    "print(\"Problem 1a Test 1: Success!\")"
   ]
  },
  {
   "cell_type": "code",
   "execution_count": null,
   "metadata": {
    "deletable": false,
    "editable": false,
    "nbgrader": {
     "cell_type": "code",
     "checksum": "d48b69abb0ba095fb658daab89c407bd",
     "grade": true,
     "grade_id": "cell-0da2e7ba186376ef",
     "locked": true,
     "points": 1,
     "schema_version": 3,
     "solution": false,
     "task": false
    }
   },
   "outputs": [],
   "source": [
    "\"Verify the value c. This cell contains hidden tests.\"\n",
    "assert isinstance(c,int) , \"c should be an integer.\"\n",
    "print(\"Problem 1a Test 2: Success!\")"
   ]
  },
  {
   "cell_type": "markdown",
   "metadata": {
    "deletable": false,
    "editable": false,
    "nbgrader": {
     "cell_type": "markdown",
     "checksum": "fe858200cf7e58bda21831de73b7b378",
     "grade": false,
     "grade_id": "cell-baf4d9bb8f243016",
     "locked": true,
     "schema_version": 3,
     "solution": false,
     "task": false
    }
   },
   "source": [
    "### Problem 1b (1 mark)\n",
    "\n",
    "Find all of the aperiodic states and enter them as a vector of integers (in increasing order) called `Ap`. For example, if you select states 1 and 4 then enter:\n",
    "```\n",
    "Ap = [1,4]\n",
    "```\n",
    "If you select only one state such as state 1 then enter:\n",
    "```\n",
    "Ap = [1]\n",
    "```\n",
    "If there are no aperiodic states, set `Ap` to the empty vector:\n",
    "```\n",
    "Ap = []\n",
    "```\n",
    "\n",
    "**Grading:**\n",
    "\n",
    "* +1 mark if answer `Ap` is correct\n",
    "* -1 mark if answer `Ap` is incorrect\n",
    "\n",
    "Alternatively, enter `Ap = 0` for 0 marks."
   ]
  },
  {
   "cell_type": "code",
   "execution_count": null,
   "metadata": {
    "deletable": false,
    "nbgrader": {
     "cell_type": "code",
     "checksum": "07da841d57ab8c1d1c4dd8ea84d9d7df",
     "grade": false,
     "grade_id": "cell-031f5d2c78a406f6",
     "locked": false,
     "schema_version": 3,
     "solution": true,
     "task": false
    }
   },
   "outputs": [],
   "source": [
    "# Enter a value for Ap (or leave Ap = 0 for 0 marks)\n",
    "Ap = 0"
   ]
  },
  {
   "cell_type": "code",
   "execution_count": null,
   "metadata": {
    "deletable": false,
    "editable": false,
    "nbgrader": {
     "cell_type": "code",
     "checksum": "ef82a6a9fd69ce7562b64264a944ce02",
     "grade": true,
     "grade_id": "cell-b9b1be37f9db30e2",
     "locked": true,
     "points": 1,
     "schema_version": 3,
     "solution": false,
     "task": false
    }
   },
   "outputs": [],
   "source": [
    "\"Verify the value of Ap. This cell contains hidden tests.\"\n",
    "assert isinstance(Ap,list) or Ap == 0, \"Ap should be a list of integers or Ap = 0.\"\n",
    "print(\"Problem 1b Test 1: Success!\")"
   ]
  },
  {
   "cell_type": "code",
   "execution_count": null,
   "metadata": {
    "deletable": false,
    "editable": false,
    "nbgrader": {
     "cell_type": "code",
     "checksum": "77b29d78b41f8587d1cd1209774f1f80",
     "grade": true,
     "grade_id": "cell-92004b917ba56858",
     "locked": true,
     "points": 1,
     "schema_version": 3,
     "solution": false,
     "task": false
    }
   },
   "outputs": [],
   "source": [
    "\"Verify the value of Ap. This cell contains hidden tests.\"\n",
    "assert isinstance(Ap,list) or Ap == 0, \"Ap should be a list of integers or Ap = 0.\"\n",
    "print(\"Problem 1b Test 2: Success!\")"
   ]
  },
  {
   "cell_type": "markdown",
   "metadata": {
    "deletable": false,
    "editable": false,
    "nbgrader": {
     "cell_type": "markdown",
     "checksum": "95cad3e6f1e3f9246c562615fd62b199",
     "grade": false,
     "grade_id": "cell-cc9437d350112617",
     "locked": true,
     "schema_version": 3,
     "solution": false,
     "task": false
    }
   },
   "source": [
    "### Problem 1c (1 mark)\n",
    "\n",
    "Find all of the states of period 2 and enter them as a vector of integers (in increasing order) called `P2`. For example, if you select states 1 and 4 then enter:\n",
    "```\n",
    "P2 = [1,4]\n",
    "```\n",
    "If you select only one state such as state 1 then enter:\n",
    "```\n",
    "P2 = [1]\n",
    "```\n",
    "If there are no states of period 2, set `P2` to the empty vector:\n",
    "```\n",
    "P2 = []\n",
    "```\n",
    "\n",
    "**Grading:**\n",
    "\n",
    "* +1 mark if answer `P2` is correct\n",
    "* -1 mark if answer `P2` is incorrect\n",
    "\n",
    "Alternatively, enter `P2 = 0` for 0 marks."
   ]
  },
  {
   "cell_type": "code",
   "execution_count": null,
   "metadata": {
    "deletable": false,
    "nbgrader": {
     "cell_type": "code",
     "checksum": "61b2cb76d2f6afb3ff5a6ccbe0789723",
     "grade": false,
     "grade_id": "cell-54bb36a1b34f8abc",
     "locked": false,
     "schema_version": 3,
     "solution": true,
     "task": false
    }
   },
   "outputs": [],
   "source": [
    "# Enter a value for P2 (or leave P2 = 0 for 0 marks)\n",
    "P2 = 0"
   ]
  },
  {
   "cell_type": "code",
   "execution_count": null,
   "metadata": {
    "deletable": false,
    "editable": false,
    "nbgrader": {
     "cell_type": "code",
     "checksum": "4fbb0486290bf0a58dea1eb8f5015d9d",
     "grade": true,
     "grade_id": "cell-3eea5ba2631c710c",
     "locked": true,
     "points": 1,
     "schema_version": 3,
     "solution": false,
     "task": false
    }
   },
   "outputs": [],
   "source": [
    "\"Verify the value of P2. This cell contains hidden tests.\"\n",
    "assert isinstance(P2,list) or P2 == 0, \"P2 should be a list of integers or P2 = 0.\"\n",
    "print(\"Problem 1c Test 1: Success!\")"
   ]
  },
  {
   "cell_type": "code",
   "execution_count": null,
   "metadata": {
    "deletable": false,
    "editable": false,
    "nbgrader": {
     "cell_type": "code",
     "checksum": "3c684302838c0b020399d308838ed2c3",
     "grade": true,
     "grade_id": "cell-dab628495512f40a",
     "locked": true,
     "points": 1,
     "schema_version": 3,
     "solution": false,
     "task": false
    }
   },
   "outputs": [],
   "source": [
    "\"Verify the value of P2. This cell contains hidden tests.\"\n",
    "assert isinstance(P2,list) or P2 == 0, \"P2 should be a list of integers or P2 = 0.\"\n",
    "print(\"Problem 1c Test 2: Success!\")"
   ]
  },
  {
   "cell_type": "markdown",
   "metadata": {
    "deletable": false,
    "editable": false,
    "nbgrader": {
     "cell_type": "markdown",
     "checksum": "f4e4a04af76285d840167a1873f4b70e",
     "grade": false,
     "grade_id": "cell-fcfac53768ce54df",
     "locked": true,
     "schema_version": 3,
     "solution": false,
     "task": false
    }
   },
   "source": [
    "### Problem 1d (1 mark)\n",
    "\n",
    "Find all of the states of period 3 and enter them as a vector of integers (in increasing order) called `P3`. For example, if you select states 1 and 4 then enter:\n",
    "```\n",
    "P3 = [1,4]\n",
    "```\n",
    "If you select only one state such as state 1 then enter:\n",
    "```\n",
    "P3 = [1]\n",
    "```\n",
    "If there are no states of period 3, set `P3` to the empty vector:\n",
    "```\n",
    "P3 = []\n",
    "```\n",
    "\n",
    "**Grading:**\n",
    "\n",
    "* +1 mark if answer `P3` is correct\n",
    "* -1 mark if answer `P3` is incorrect\n",
    "\n",
    "Alternatively, enter `P3 = 0` for 0 marks."
   ]
  },
  {
   "cell_type": "code",
   "execution_count": null,
   "metadata": {
    "deletable": false,
    "nbgrader": {
     "cell_type": "code",
     "checksum": "2932859bcaefc5136e4221ef9f314e23",
     "grade": false,
     "grade_id": "cell-62c2e533febc64cb",
     "locked": false,
     "schema_version": 3,
     "solution": true,
     "task": false
    }
   },
   "outputs": [],
   "source": [
    "# Enter a value for P3 (or leave P3 = 0 for 0 marks)\n",
    "P3 = 0"
   ]
  },
  {
   "cell_type": "code",
   "execution_count": null,
   "metadata": {
    "deletable": false,
    "editable": false,
    "nbgrader": {
     "cell_type": "code",
     "checksum": "50ad3714601aa965841f43b0519fa3f2",
     "grade": true,
     "grade_id": "cell-3f47d8a666542977",
     "locked": true,
     "points": 1,
     "schema_version": 3,
     "solution": false,
     "task": false
    }
   },
   "outputs": [],
   "source": [
    "\"Verify the value of P3. This cell contains hidden tests.\"\n",
    "assert isinstance(P3,list) or P3 == 0, \"P3 should be a list of integers or P3 = 0.\"\n",
    "print(\"Problem 1d Test 1: Success!\")"
   ]
  },
  {
   "cell_type": "code",
   "execution_count": null,
   "metadata": {
    "deletable": false,
    "editable": false,
    "nbgrader": {
     "cell_type": "code",
     "checksum": "b25ed0f750807ae6fd2d3de086af4b62",
     "grade": true,
     "grade_id": "cell-df3909c0b4365845",
     "locked": true,
     "points": 1,
     "schema_version": 3,
     "solution": false,
     "task": false
    }
   },
   "outputs": [],
   "source": [
    "\"Verify the value of P3. This cell contains hidden tests.\"\n",
    "assert isinstance(P3,list) or P3 == 0, \"P3 should be a list of integers or P3 = 0.\"\n",
    "print(\"Problem 1d Test 2: Success!\")"
   ]
  },
  {
   "cell_type": "markdown",
   "metadata": {
    "deletable": false,
    "editable": false,
    "nbgrader": {
     "cell_type": "markdown",
     "checksum": "58e581a532ff0fa68f2d4cbfb8cc65b0",
     "grade": false,
     "grade_id": "cell-f72ffe6e0131d973",
     "locked": true,
     "schema_version": 3,
     "solution": false,
     "task": false
    }
   },
   "source": [
    "### Problem 1e (1 mark)\n",
    "\n",
    "Find all of the absorbing states and enter them as a vector of integers (in increasing order) called `Ab`. For example, if you select states 1 and 4 then enter:\n",
    "```\n",
    "Ab = [1,4]\n",
    "```\n",
    "If you select only one state such as state 1 then enter:\n",
    "```\n",
    "Ab = [1]\n",
    "```\n",
    "If there are no absorbing states, set `Ab` to the empty vector:\n",
    "```\n",
    "Ab = []\n",
    "```\n",
    "\n",
    "**Grading:**\n",
    "\n",
    "* +1 mark if answer `Ab` is correct\n",
    "* -1 mark if answer `Ab` is incorrect\n",
    "\n",
    "Alternatively, enter `Ab = 0` for 0 marks."
   ]
  },
  {
   "cell_type": "code",
   "execution_count": null,
   "metadata": {
    "deletable": false,
    "nbgrader": {
     "cell_type": "code",
     "checksum": "535bf8ab54ec4e3e1e0cd741facd9a27",
     "grade": false,
     "grade_id": "cell-e04d45b766fc06cd",
     "locked": false,
     "schema_version": 3,
     "solution": true,
     "task": false
    }
   },
   "outputs": [],
   "source": [
    "# Enter a value for Ab (or leave Ab = 0 for 0 marks)\n",
    "Ab = 0"
   ]
  },
  {
   "cell_type": "code",
   "execution_count": null,
   "metadata": {
    "deletable": false,
    "editable": false,
    "nbgrader": {
     "cell_type": "code",
     "checksum": "531b309290f067e2f846007f2be234f7",
     "grade": true,
     "grade_id": "cell-738a6adb2bdf342c",
     "locked": true,
     "points": 1,
     "schema_version": 3,
     "solution": false,
     "task": false
    }
   },
   "outputs": [],
   "source": [
    "\"Verify the value of Ab. This cell contains hidden tests.\"\n",
    "assert isinstance(Ab,list) or Ab == 0, \"Ab should be a list of integers or Ab = 0.\"\n",
    "print(\"Problem 1e Test 1: Success!\")"
   ]
  },
  {
   "cell_type": "code",
   "execution_count": null,
   "metadata": {
    "deletable": false,
    "editable": false,
    "nbgrader": {
     "cell_type": "code",
     "checksum": "9127c204fdd59632d5280fc30846eda5",
     "grade": true,
     "grade_id": "cell-7196997212fa6db6",
     "locked": true,
     "points": 1,
     "schema_version": 3,
     "solution": false,
     "task": false
    }
   },
   "outputs": [],
   "source": [
    "\"Verify the value of Ab. This cell contains hidden tests.\"\n",
    "assert isinstance(Ab,list) or Ab == 0, \"Ab should be a list of integers or Ab = 0.\"\n",
    "print(\"Problem 1e Test 2: Success!\")"
   ]
  },
  {
   "cell_type": "markdown",
   "metadata": {
    "deletable": false,
    "editable": false,
    "nbgrader": {
     "cell_type": "markdown",
     "checksum": "c362a65f9d6ed98d88f967e628868d58",
     "grade": false,
     "grade_id": "cell-f12423cba7f3dd83",
     "locked": true,
     "schema_version": 3,
     "solution": false,
     "task": false
    }
   },
   "source": [
    "## Part 2\n",
    "\n",
    "Let's consider a continuous time Markov chain $X(t)$ on $\\{1, 2, 3, 4\\}$. Run the following cell to get the initial state $x_0$, the transition probabilities $P=(p_{i,j})$, and the jump rates $V=(v_{i})$, as defined in the course. "
   ]
  },
  {
   "cell_type": "code",
   "execution_count": null,
   "metadata": {
    "deletable": false,
    "editable": false,
    "nbgrader": {
     "cell_type": "code",
     "checksum": "2ab19eaebdb71af580fb8143b0d91a74",
     "grade": false,
     "grade_id": "cell-8fed99b18d93ce75",
     "locked": true,
     "schema_version": 3,
     "solution": false,
     "task": false
    }
   },
   "outputs": [],
   "source": [
    "from sympy import latex, Matrix\n",
    "from IPython.display import display, Math\n",
    "\n",
    "y = str(id_student); a = id_student + int(y[3]); bprob12 = a % 4;\n",
    "Prob1fg = [[0.0,0.25,0.25,0.5],[0.4,0.0,0.2,0.4],[0.4,0,0.3,0.3],[0.5,0.0,0.5,0]]\n",
    "x0 = [1,2,3,4]\n",
    "\n",
    "display(Math(\"P = \" + latex(Matrix(Prob1fg))))\n",
    "display(Math(\"V = [2,3,5,4]\"))\n",
    "display(Math(\"x_0 = {}\".format(x0[bprob12])))"
   ]
  },
  {
   "cell_type": "markdown",
   "metadata": {
    "deletable": false,
    "editable": false,
    "nbgrader": {
     "cell_type": "markdown",
     "checksum": "6571b11854d809cb27ee48b117ce607f",
     "grade": false,
     "grade_id": "cell-f34239870291c230",
     "locked": true,
     "schema_version": 3,
     "solution": false,
     "task": false
    }
   },
   "source": [
    "### Problem 1f (2 marks)\n",
    "\n",
    "Enter the value `r` in the cell below such that `t` samples the time of the first jump. See the [NumPy documentation](https://numpy.org/doc/1.16/reference/routines.random.html) if needed.\n",
    "\n",
    "**Grading:**\n",
    "\n",
    "* +2 marks if answer `r` is correct\n",
    "* -1 mark if answer `r` is incorrect\n",
    "\n",
    "Alternatively, enter `r = 0` for 0 marks."
   ]
  },
  {
   "cell_type": "code",
   "execution_count": null,
   "metadata": {
    "deletable": false,
    "nbgrader": {
     "cell_type": "code",
     "checksum": "78e72c374c57d33baf607f135606da00",
     "grade": false,
     "grade_id": "cell-fa56dc9bd364b344",
     "locked": false,
     "schema_version": 3,
     "solution": true,
     "task": false
    }
   },
   "outputs": [],
   "source": [
    "import numpy as np\n",
    "\n",
    "# Enter a value for r (or leave r = 0 for 0 marks)\n",
    "r = 0\n",
    "\n",
    "t = np.random.exponential(r)"
   ]
  },
  {
   "cell_type": "code",
   "execution_count": null,
   "metadata": {
    "deletable": false,
    "editable": false,
    "nbgrader": {
     "cell_type": "code",
     "checksum": "539822d48a0f0e8b2ad78d3e46a48cd2",
     "grade": true,
     "grade_id": "cell-969a070bed64a345",
     "locked": true,
     "points": 1,
     "schema_version": 3,
     "solution": false,
     "task": false
    }
   },
   "outputs": [],
   "source": [
    "\"Verify the value of r. This cell contains hidden tests.\"\n",
    "assert r >= 0 , \"r should be a nonnegative number.\"\n",
    "print(\"Problem 1f Test 1: Success!\")"
   ]
  },
  {
   "cell_type": "code",
   "execution_count": null,
   "metadata": {
    "deletable": false,
    "editable": false,
    "nbgrader": {
     "cell_type": "code",
     "checksum": "b32d9c1379b0828451c578a20c5a2ef5",
     "grade": true,
     "grade_id": "cell-37ca3d4a2a9edb9c",
     "locked": true,
     "points": 2,
     "schema_version": 3,
     "solution": false,
     "task": false
    }
   },
   "outputs": [],
   "source": [
    "\"Verify the value of r. This cell contains hidden tests.\"\n",
    "assert r >= 0 , \"r should be a nonnegative number.\"\n",
    "print(\"Problem 1f Test 2: Success!\")"
   ]
  },
  {
   "cell_type": "markdown",
   "metadata": {
    "deletable": false,
    "editable": false,
    "nbgrader": {
     "cell_type": "markdown",
     "checksum": "414621f8dba9cfbd95fcb7ecbcc05d90",
     "grade": false,
     "grade_id": "cell-264361a5f8e7f7ff",
     "locked": true,
     "schema_version": 3,
     "solution": false,
     "task": false
    }
   },
   "source": [
    "### Problem 1g (2 marks)\n",
    "\n",
    "Enter the value `Pi` in the cell below such that `x` samples the first arrival state (the state after the first jump). See the [NumPy documentation](https://numpy.org/doc/1.16/reference/routines.random.html) if needed.\n",
    "\n",
    "**Grading:**\n",
    "\n",
    "* +2 marks if answer `Pi` is correct\n",
    "* -1 mark if answer `Pi` is incorrect\n",
    "\n",
    "Alternatively, enter `Pi = 0` for 0 marks."
   ]
  },
  {
   "cell_type": "code",
   "execution_count": null,
   "metadata": {
    "deletable": false,
    "nbgrader": {
     "cell_type": "code",
     "checksum": "2e5563af0eef87478e88f714dda097d3",
     "grade": false,
     "grade_id": "cell-b548e824fe674d0c",
     "locked": false,
     "schema_version": 3,
     "solution": true,
     "task": false
    }
   },
   "outputs": [],
   "source": [
    "import numpy as np\n",
    "\n",
    "# Enter a value for Pi (or leave Pi = 0 for 0 marks)\n",
    "Pi = 0\n",
    "\n",
    "x = np.random.choice([1,2,3,4], 1, p=Pi)"
   ]
  },
  {
   "cell_type": "code",
   "execution_count": null,
   "metadata": {
    "deletable": false,
    "editable": false,
    "nbgrader": {
     "cell_type": "code",
     "checksum": "1d913c38a873f2909796b58846938c06",
     "grade": true,
     "grade_id": "cell-f220321abdc80829",
     "locked": true,
     "points": 1,
     "schema_version": 3,
     "solution": false,
     "task": false
    }
   },
   "outputs": [],
   "source": [
    "\"Verify the value of Pi. This cell contains hidden tests.\"\n",
    "assert Pi is not None\n",
    "print(\"Problem 1g Test 1: Success!\")"
   ]
  },
  {
   "cell_type": "code",
   "execution_count": null,
   "metadata": {
    "deletable": false,
    "editable": false,
    "nbgrader": {
     "cell_type": "code",
     "checksum": "b3b208b54a0bee206f21b1f12122f197",
     "grade": true,
     "grade_id": "cell-fabb89bf10221bda",
     "locked": true,
     "points": 2,
     "schema_version": 3,
     "solution": false,
     "task": false
    }
   },
   "outputs": [],
   "source": [
    "\"Verify the value of Pi. This cell contains hidden tests.\"\n",
    "assert Pi is not None\n",
    "print(\"Problem 1g Test 2: Success!\")"
   ]
  },
  {
   "cell_type": "markdown",
   "metadata": {
    "deletable": false,
    "editable": false,
    "nbgrader": {
     "cell_type": "markdown",
     "checksum": "f542a2be1e0946ac1013bbb215315815",
     "grade": false,
     "grade_id": "cell-5fb05f3aa3253322",
     "locked": true,
     "schema_version": 3,
     "solution": false,
     "task": false
    }
   },
   "source": [
    "## Problem 2\n",
    "\n",
    "Run the following cell and note the values to be used in Problem 2."
   ]
  },
  {
   "cell_type": "code",
   "execution_count": null,
   "metadata": {
    "deletable": false,
    "editable": false,
    "nbgrader": {
     "cell_type": "code",
     "checksum": "ce615b41b0091ca1cbaf362bd61d4232",
     "grade": false,
     "grade_id": "cell-183f3d3af8cf7e82",
     "locked": true,
     "schema_version": 3,
     "solution": false,
     "task": false
    }
   },
   "outputs": [],
   "source": [
    "y = str(id_student); a = id_student + int(y[2]); b = a % 4;\n",
    "Prob2 = [[6,3,2,3],[8,2,1,3],[8,4,1,4],[6,2,3,4]]\n",
    "print(\"Transition probability P_{{RR}} = {0}/{1}\".format(Prob2[b][2],Prob2[b][3]))\n",
    "print(\"Average number of inches of snow in a snowy year =\",Prob2[b][0])\n",
    "print(\"Average number of inches of snow in a rainy year =\",Prob2[b][1])"
   ]
  },
  {
   "cell_type": "markdown",
   "metadata": {
    "deletable": false,
    "editable": false,
    "nbgrader": {
     "cell_type": "markdown",
     "checksum": "83122c30edcbfdc713a1b69da693b542",
     "grade": false,
     "grade_id": "cell-25881e369f17ae3a",
     "locked": true,
     "schema_version": 3,
     "solution": false,
     "task": false
    }
   },
   "source": [
    "## Problem 3\n",
    "Run the following cell and note the values to be found in Problem 3."
   ]
  },
  {
   "cell_type": "code",
   "execution_count": null,
   "metadata": {
    "deletable": false,
    "editable": false,
    "nbgrader": {
     "cell_type": "code",
     "checksum": "647953c9f0a79a029e576c00ef75d734",
     "grade": false,
     "grade_id": "cell-20632cdbed7c4e83",
     "locked": true,
     "schema_version": 3,
     "solution": false,
     "task": false
    }
   },
   "outputs": [],
   "source": [
    "y = str(id_student); a = id_student + int(y[4]); b = a % 3;\n",
    "Prob3 = [[\"Probability that Jacob got at least one subscriber, and no followers who are not subscribers after a week.\",\n",
    "          \"Probability  that  Jacob has exactly no subscriber and 2 followers who are not subscribers after 4 days.\",\n",
    "          \"Probability that Jacob has at most 1 follower who is not subscriber and exactly 2 subscribers after 4 days.\"],\n",
    "         [\"Probability that exactly 3 followers are subscribers, given that Jacob got 8 total followers in two days.\",\n",
    "          \"Probability that exactly 3 followers are not subscribers, given that Jacob got 6 total followers in 3 days.\",\n",
    "          \"Probability that exactly 4 followers are subscribers, given that Jacob got 8 total followers in 4 days.\"],\n",
    "         [\"Expected number of followers who are not subscribers, given that Jacob got 8 total followers in two days.\",\n",
    "          \"Expected number of subscribers, given that Jacob got 6 total followers in 3 days.\",\n",
    "          \"Expected number of followers who are not subscribers, given that Jacob got 8 total followers in 4 days.\"]]\n",
    "print(\" Problem 3a:\\n\",Prob3[0][b],\"\\n\")\n",
    "print(\" Problem 3b:\\n\",Prob3[1][b],\"\\n\")\n",
    "print(\" Problem 3c:\\n\",Prob3[2][b],\"\\n\")"
   ]
  },
  {
   "cell_type": "markdown",
   "metadata": {
    "deletable": false,
    "editable": false,
    "nbgrader": {
     "cell_type": "markdown",
     "checksum": "efcd2edb127ceac61d9a3e0f2162db13",
     "grade": false,
     "grade_id": "cell-8cb600b5b1d01d3a",
     "locked": true,
     "schema_version": 3,
     "solution": false,
     "task": false
    }
   },
   "source": [
    "## Problem 4\n",
    "Run the following cell and note the values for $\\mu_{\\text{news}} =$ `mu_news`, $\\mu_{\\text{sports}} =$ `mu_sports`, $p$ and $p'$ to be used in Problem 4."
   ]
  },
  {
   "cell_type": "code",
   "execution_count": null,
   "metadata": {
    "deletable": false,
    "editable": false,
    "nbgrader": {
     "cell_type": "code",
     "checksum": "7e3ecfe99fc0df1047aad44f0db8c3e1",
     "grade": false,
     "grade_id": "cell-284bbb0457c787a3",
     "locked": true,
     "schema_version": 3,
     "solution": false,
     "task": false
    }
   },
   "outputs": [],
   "source": [
    "y = str(id_student); a = 3*id_student + int(y[5]); b = a % 4;\n",
    "Prob4 = [['1','1/2','1/2','1/3'],['1/2','1/3','1/3','1/2'],['1/2','1/3','1/4','2/3'],['1/4','1/2','1/3','1/4']]\n",
    "print(\"mu_news =\",Prob4[b][0])\n",
    "print(\"mu_sports =\",Prob4[b][1])\n",
    "print(\"p =\", Prob4[b][2])\n",
    "print(\"p' =\", Prob4[b][3])"
   ]
  }
 ],
 "metadata": {
  "kernelspec": {
   "display_name": "Python 3",
   "language": "python",
   "name": "python3"
  },
  "language_info": {
   "codemirror_mode": {
    "name": "ipython",
    "version": 3
   },
   "file_extension": ".py",
   "mimetype": "text/x-python",
   "name": "python",
   "nbconvert_exporter": "python",
   "pygments_lexer": "ipython3",
   "version": "3.7.3"
  }
 },
 "nbformat": 4,
 "nbformat_minor": 4
}
