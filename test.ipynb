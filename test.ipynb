{
 "cells": [
  {
   "cell_type": "markdown",
   "metadata": {},
   "source": [
    "## Test\n",
    "\n",
    "Run the following cell to check if the `simpy` package is installed, so you don't get any error message."
   ]
  },
  {
   "cell_type": "code",
   "execution_count": 2,
   "metadata": {
    "nbgrader": {
     "grade": false,
     "grade_id": "cell-a0188076d221caeb",
     "locked": true,
     "schema_version": 3,
     "solution": false,
     "task": false
    }
   },
   "outputs": [
    {
     "data": {
      "text/latex": [
       "$\\displaystyle P = \\left[\\begin{matrix}0.0 & 0.0 & 0.0 & 1.0 & 0.0\\\\0.0 & 0.5 & 0.0 & 0.0 & 0.5\\\\0.2 & 0.0 & 0.6 & 0.0 & 0.2\\\\1.0 & 0.0 & 0.0 & 0.0 & 0.0\\\\0.0 & 0.4 & 0.0 & 0.0 & 0.6\\end{matrix}\\right]$"
      ],
      "text/plain": [
       "<IPython.core.display.Math object>"
      ]
     },
     "metadata": {},
     "output_type": "display_data"
    }
   ],
   "source": [
    "from sympy import latex, Matrix\n",
    "from IPython.display import display, Math\n",
    "\n",
    "P = [[0.0,0.0,0.0,1.0,0.0],[0.0,0.5,0.0,0.0,0.5],[0.2,0.0,0.6,0.0,0.2],[1.0,0.0,0.0,0.0,0.0],[0.0,0.4,0.0,0.0,0.6]]\n",
    "\n",
    "display(Math('P = ' + latex(Matrix(P)))); "
   ]
  },
  {
   "cell_type": "code",
   "execution_count": null,
   "metadata": {},
   "outputs": [],
   "source": []
  }
 ],
 "metadata": {
  "celltoolbar": "Create Assignment",
  "kernelspec": {
   "display_name": "Python 3",
   "language": "python",
   "name": "python3"
  },
  "language_info": {
   "codemirror_mode": {
    "name": "ipython",
    "version": 3
   },
   "file_extension": ".py",
   "mimetype": "text/x-python",
   "name": "python",
   "nbconvert_exporter": "python",
   "pygments_lexer": "ipython3",
   "version": "3.7.3"
  }
 },
 "nbformat": 4,
 "nbformat_minor": 4
}
